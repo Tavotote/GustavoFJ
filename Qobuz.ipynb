{
  "cells": [
    {
      "cell_type": "markdown",
      "metadata": {
        "id": "view-in-github",
        "colab_type": "text"
      },
      "source": [
        "<a href=\"https://colab.research.google.com/github/Tavotote/GustavoFJ/blob/main/Qobuz.ipynb\" target=\"_parent\"><img src=\"https://colab.research.google.com/assets/colab-badge.svg\" alt=\"Open In Colab\"/></a>"
      ]
    },
    {
      "cell_type": "code",
      "execution_count": null,
      "metadata": {
        "colab": {
          "base_uri": "https://localhost:8080/"
        },
        "id": "mZPpUbLoXz3d",
        "outputId": "3b706811-d1fb-4a44-af65-785ef9089421"
      },
      "outputs": [
        {
          "output_type": "stream",
          "name": "stdout",
          "text": [
            "Cloning into 'orpheusdl'...\n",
            "remote: Enumerating objects: 529, done.\u001b[K\n",
            "remote: Counting objects: 100% (392/392), done.\u001b[K\n",
            "remote: Compressing objects: 100% (183/183), done.\u001b[K\n",
            "remote: Total 529 (delta 249), reused 262 (delta 188), pack-reused 137\u001b[K\n",
            "Receiving objects: 100% (529/529), 163.96 KiB | 7.81 MiB/s, done.\n",
            "Resolving deltas: 100% (307/307), done.\n"
          ]
        }
      ],
      "source": [
        "!git clone https://github.com/adrianmejiam/orpheusdl.git"
      ]
    },
    {
      "cell_type": "code",
      "execution_count": null,
      "metadata": {
        "colab": {
          "base_uri": "https://localhost:8080/"
        },
        "id": "nms7jRwkX3x5",
        "outputId": "d6572ad9-1e3e-42bf-c7bc-586325251957"
      },
      "outputs": [
        {
          "output_type": "stream",
          "name": "stdout",
          "text": [
            "/content/orpheusdl\n"
          ]
        }
      ],
      "source": [
        "cd orpheusdl"
      ]
    },
    {
      "cell_type": "code",
      "execution_count": null,
      "metadata": {
        "colab": {
          "base_uri": "https://localhost:8080/",
          "height": 693
        },
        "id": "LsFg4dbzX8E4",
        "outputId": "2ffade8b-84f3-417f-f7f9-5701235f5829"
      },
      "outputs": [
        {
          "output_type": "stream",
          "name": "stdout",
          "text": [
            "Looking in indexes: https://pypi.org/simple, https://us-python.pkg.dev/colab-wheels/public/simple/\n",
            "Requirement already satisfied: defusedxml>=0.7.1 in /usr/local/lib/python3.7/dist-packages (from -r requirements.txt (line 1)) (0.7.1)\n",
            "Requirement already satisfied: protobuf>=3.15.8 in /usr/local/lib/python3.7/dist-packages (from -r requirements.txt (line 2)) (3.17.3)\n",
            "Collecting pycryptodomex>=3.10.1\n",
            "  Downloading pycryptodomex-3.15.0-cp35-abi3-manylinux2010_x86_64.whl (2.3 MB)\n",
            "\u001b[K     |████████████████████████████████| 2.3 MB 14.7 MB/s \n",
            "\u001b[?25hCollecting requests>=2.25.1\n",
            "  Downloading requests-2.28.1-py3-none-any.whl (62 kB)\n",
            "\u001b[K     |████████████████████████████████| 62 kB 1.2 MB/s \n",
            "\u001b[?25hCollecting Pillow>=8.2.0\n",
            "  Downloading Pillow-9.2.0-cp37-cp37m-manylinux_2_17_x86_64.manylinux2014_x86_64.whl (3.1 MB)\n",
            "\u001b[K     |████████████████████████████████| 3.1 MB 45.7 MB/s \n",
            "\u001b[?25hRequirement already satisfied: tqdm>=4.60.0 in /usr/local/lib/python3.7/dist-packages (from -r requirements.txt (line 6)) (4.64.1)\n",
            "Collecting mutagen>=1.45.1\n",
            "  Downloading mutagen-1.46.0-py3-none-any.whl (193 kB)\n",
            "\u001b[K     |████████████████████████████████| 193 kB 55.4 MB/s \n",
            "\u001b[?25hCollecting ffmpeg-python>=0.2.0\n",
            "  Downloading ffmpeg_python-0.2.0-py3-none-any.whl (25 kB)\n",
            "Requirement already satisfied: six>=1.9 in /usr/local/lib/python3.7/dist-packages (from protobuf>=3.15.8->-r requirements.txt (line 2)) (1.15.0)\n",
            "Requirement already satisfied: certifi>=2017.4.17 in /usr/local/lib/python3.7/dist-packages (from requests>=2.25.1->-r requirements.txt (line 4)) (2022.9.24)\n",
            "Requirement already satisfied: idna<4,>=2.5 in /usr/local/lib/python3.7/dist-packages (from requests>=2.25.1->-r requirements.txt (line 4)) (2.10)\n",
            "Requirement already satisfied: charset-normalizer<3,>=2 in /usr/local/lib/python3.7/dist-packages (from requests>=2.25.1->-r requirements.txt (line 4)) (2.1.1)\n",
            "Requirement already satisfied: urllib3<1.27,>=1.21.1 in /usr/local/lib/python3.7/dist-packages (from requests>=2.25.1->-r requirements.txt (line 4)) (1.24.3)\n",
            "Requirement already satisfied: future in /usr/local/lib/python3.7/dist-packages (from ffmpeg-python>=0.2.0->-r requirements.txt (line 8)) (0.16.0)\n",
            "Installing collected packages: requests, pycryptodomex, Pillow, mutagen, ffmpeg-python\n",
            "  Attempting uninstall: requests\n",
            "    Found existing installation: requests 2.23.0\n",
            "    Uninstalling requests-2.23.0:\n",
            "      Successfully uninstalled requests-2.23.0\n",
            "  Attempting uninstall: Pillow\n",
            "    Found existing installation: Pillow 7.1.2\n",
            "    Uninstalling Pillow-7.1.2:\n",
            "      Successfully uninstalled Pillow-7.1.2\n",
            "Successfully installed Pillow-9.2.0 ffmpeg-python-0.2.0 mutagen-1.46.0 pycryptodomex-3.15.0 requests-2.28.1\n"
          ]
        },
        {
          "output_type": "display_data",
          "data": {
            "application/vnd.colab-display-data+json": {
              "pip_warning": {
                "packages": [
                  "PIL"
                ]
              }
            }
          },
          "metadata": {}
        }
      ],
      "source": [
        "!pip install -r requirements.txt"
      ]
    },
    {
      "cell_type": "code",
      "source": [
        "!python orpheus.py settings refresh"
      ],
      "metadata": {
        "colab": {
          "base_uri": "https://localhost:8080/"
        },
        "id": "vAt27ogVxPmd",
        "outputId": "3f5bd4cb-45ec-4cc8-e4e0-758d351a7ab1"
      },
      "execution_count": 77,
      "outputs": [
        {
          "output_type": "stream",
          "name": "stdout",
          "text": [
            "\n",
            "  ('-. .-.                _  .-')     ('-.    .-')         \n",
            "( OO )  /               ( \\( -O )  _(  OO)  ( OO ).       \n",
            ",--. ,--.  ,-.-')        ,------. (,------.(_)---\\_)      \n",
            "|  | |  |  |  |OO)       |   /`. ' |  .---'/    _ |       \n",
            "|   .|  |  |  |  \\       |  /  | | |  |    \\  :` `.       \n",
            "|       |  |  |(_/       |  |_.' |(|  '--.  '..`''.)      \n",
            "|  .-.  | ,|  |_.'       |  .  '.' |  .--' .-._)   \\      \n",
            "|  | |  |(_|  |          |  |\\  \\  |  `---.\\       /      \n",
            "`--' `--'  `--'          `--' '--' `------' `-----' \n",
            "Mexico\n",
            "             \n",
            "\n",
            "settings.json has been refreshed successfully.\n"
          ]
        }
      ]
    },
    {
      "cell_type": "code",
      "execution_count": 78,
      "metadata": {
        "id": "8n-R6k0Tkh8T",
        "colab": {
          "base_uri": "https://localhost:8080/"
        },
        "outputId": "2c8b5754-4774-4bc5-ec1d-671b30987156"
      },
      "outputs": [
        {
          "output_type": "stream",
          "name": "stdout",
          "text": [
            "\n",
            "  ('-. .-.                _  .-')     ('-.    .-')         \n",
            "( OO )  /               ( \\( -O )  _(  OO)  ( OO ).       \n",
            ",--. ,--.  ,-.-')        ,------. (,------.(_)---\\_)      \n",
            "|  | |  |  |  |OO)       |   /`. ' |  .---'/    _ |       \n",
            "|   .|  |  |  |  \\       |  /  | | |  |    \\  :` `.       \n",
            "|       |  |  |(_/       |  |_.' |(|  '--.  '..`''.)      \n",
            "|  .-.  | ,|  |_.'       |  .  '.' |  .--' .-._)   \\      \n",
            "|  | |  |(_|  |          |  |\\  \\  |  `---.\\       /      \n",
            "`--' `--'  `--'          `--' '--' `------' `-----' \n",
            "Mexico\n",
            "             \n",
            "\n",
            "=== Downloading album ya no somos los mismos (az66a0ndl1adb) ===\n",
            "Artist: Elsa y Elmar (2224244)\n",
            "Year: 2022\n",
            "Number of tracks: 14\n",
            "Service: Qobuz\n",
            "Downloading album cover\n",
            "\n",
            "Track 1/14\n",
            "=== Downloading track amantes y amigos (152216924) ===\n",
            "Artists: Elsa y Elmar (2224244)\n",
            "Release year: 2022\n",
            "Codec: FLAC, bitrate: 2304kbps, bit depth: 24bit, sample rate: 48kHz\n",
            "\n",
            "Downloading track file\n",
            "100% 49.2M/49.2M [00:01<00:00, 34.6MB/s]\n",
            "Downloading artwork\n",
            "Retrieving credits\n",
            "Tagging file\n",
            "=== Track 152216924 downloaded ===\n",
            "\n",
            "Track 2/14\n",
            "=== Downloading track vuelve (152216925) ===\n",
            "Artists: Elsa y Elmar (2224244)\n",
            "Release year: 2022\n",
            "Codec: FLAC, bitrate: 2304kbps, bit depth: 24bit, sample rate: 48kHz\n",
            "\n",
            "Downloading track file\n",
            "100% 39.1M/39.1M [00:00<00:00, 47.2MB/s]\n",
            "Downloading artwork\n",
            "Retrieving credits\n",
            "Tagging file\n",
            "=== Track 152216925 downloaded ===\n",
            "\n",
            "Track 3/14\n",
            "=== Downloading track corazones negros (152216926) ===\n",
            "Artists: Elsa y Elmar (2224244)\n",
            "Release year: 2022\n",
            "Codec: FLAC, bitrate: 2304kbps, bit depth: 24bit, sample rate: 48kHz\n",
            "\n",
            "Downloading track file\n",
            "100% 37.7M/37.7M [00:01<00:00, 34.8MB/s]\n",
            "Downloading artwork\n",
            "Retrieving credits\n",
            "Tagging file\n",
            "=== Track 152216926 downloaded ===\n",
            "\n",
            "Track 4/14\n",
            "=== Downloading track a tu ladito (152216927) ===\n",
            "Artists: Elsa y Elmar (2224244)\n",
            "Release year: 2022\n",
            "Codec: FLAC, bitrate: 2304kbps, bit depth: 24bit, sample rate: 48kHz\n",
            "\n",
            "Downloading track file\n",
            "100% 39.0M/39.0M [00:01<00:00, 35.8MB/s]\n",
            "Downloading artwork\n",
            "Retrieving credits\n",
            "Tagging file\n",
            "=== Track 152216927 downloaded ===\n",
            "\n",
            "Track 5/14\n",
            "=== Downloading track y no lloro (152216928) ===\n",
            "Artists: Elsa y Elmar (2224244)\n",
            "Release year: 2022\n",
            "Codec: FLAC, bitrate: 2304kbps, bit depth: 24bit, sample rate: 48kHz\n",
            "\n",
            "Downloading track file\n",
            "100% 28.9M/28.9M [00:01<00:00, 27.9MB/s]\n",
            "Downloading artwork\n",
            "Retrieving credits\n",
            "Tagging file\n",
            "=== Track 152216928 downloaded ===\n",
            "\n",
            "Track 6/14\n",
            "=== Downloading track hasta dónde se enamora (152216929) ===\n",
            "Artists: Elsa y Elmar (2224244)\n",
            "Release year: 2022\n",
            "Codec: FLAC, bitrate: 2304kbps, bit depth: 24bit, sample rate: 48kHz\n",
            "\n",
            "Downloading track file\n",
            "100% 37.2M/37.2M [00:01<00:00, 32.7MB/s]\n",
            "Downloading artwork\n",
            "Retrieving credits\n",
            "Tagging file\n",
            "=== Track 152216929 downloaded ===\n",
            "\n",
            "Track 7/14\n",
            "=== Downloading track cómo acaba (152216930) ===\n",
            "Artists: Elsa y Elmar (2224244)\n",
            "Release year: 2022\n",
            "Codec: FLAC, bitrate: 2304kbps, bit depth: 24bit, sample rate: 48kHz\n",
            "\n",
            "Downloading track file\n",
            "100% 44.0M/44.0M [00:01<00:00, 30.9MB/s]\n",
            "Downloading artwork\n",
            "Retrieving credits\n",
            "Tagging file\n",
            "=== Track 152216930 downloaded ===\n",
            "\n",
            "Track 8/14\n",
            "=== Downloading track tal para cual (152216931) ===\n",
            "Artists: Elsa y Elmar, Joe Arroyo (2224244)\n",
            "Release year: 2022\n",
            "Codec: FLAC, bitrate: 2304kbps, bit depth: 24bit, sample rate: 48kHz\n",
            "\n",
            "Downloading track file\n",
            "100% 23.8M/23.8M [00:00<00:00, 28.0MB/s]\n",
            "Downloading artwork\n",
            "Retrieving credits\n",
            "Tagging file\n",
            "=== Track 152216931 downloaded ===\n",
            "\n",
            "Track 9/14\n",
            "=== Downloading track último y primero (152216932) ===\n",
            "Artists: Elsa y Elmar (2224244)\n",
            "Release year: 2022\n",
            "Codec: FLAC, bitrate: 2304kbps, bit depth: 24bit, sample rate: 48kHz\n",
            "\n",
            "Downloading track file\n",
            "100% 36.6M/36.6M [00:01<00:00, 31.6MB/s]\n",
            "Downloading artwork\n",
            "Retrieving credits\n",
            "Tagging file\n",
            "=== Track 152216932 downloaded ===\n",
            "\n",
            "Track 10/14\n",
            "=== Downloading track atravesao (152216933) ===\n",
            "Artists: Elsa y Elmar (2224244)\n",
            "Release year: 2022\n",
            "Codec: FLAC, bitrate: 2304kbps, bit depth: 24bit, sample rate: 48kHz\n",
            "\n",
            "Downloading track file\n",
            "100% 41.6M/41.6M [00:01<00:00, 38.6MB/s]\n",
            "Downloading artwork\n",
            "Retrieving credits\n",
            "Tagging file\n",
            "=== Track 152216933 downloaded ===\n",
            "\n",
            "Track 11/14\n",
            "=== Downloading track rompas (152216934) ===\n",
            "Artists: Elsa y Elmar (2224244)\n",
            "Release year: 2022\n",
            "Codec: FLAC, bitrate: 2304kbps, bit depth: 24bit, sample rate: 48kHz\n",
            "\n",
            "Downloading track file\n",
            "100% 37.2M/37.2M [00:01<00:00, 38.0MB/s]\n",
            "Downloading artwork\n",
            "Retrieving credits\n",
            "Tagging file\n",
            "=== Track 152216934 downloaded ===\n",
            "\n",
            "Track 12/14\n",
            "=== Downloading track primavera (152216935) ===\n",
            "Artists: Elsa y Elmar (2224244)\n",
            "Release year: 2022\n",
            "Codec: FLAC, bitrate: 2304kbps, bit depth: 24bit, sample rate: 48kHz\n",
            "\n",
            "Downloading track file\n",
            "100% 41.2M/41.2M [00:01<00:00, 37.7MB/s]\n",
            "Downloading artwork\n",
            "Retrieving credits\n",
            "Tagging file\n",
            "=== Track 152216935 downloaded ===\n",
            "\n",
            "Track 13/14\n",
            "=== Downloading track no todo fue malo // ya no somos los mismos (152216936) ===\n",
            "Artists: Elsa y Elmar (2224244)\n",
            "Release year: 2022\n",
            "Codec: FLAC, bitrate: 2304kbps, bit depth: 24bit, sample rate: 48kHz\n",
            "\n",
            "Downloading track file\n",
            "100% 25.0M/25.0M [00:00<00:00, 35.0MB/s]\n",
            "Downloading artwork\n",
            "Retrieving credits\n",
            "Tagging file\n",
            "=== Track 152216936 downloaded ===\n",
            "\n",
            "Track 14/14\n",
            "=== Downloading track gracias (152216937) ===\n",
            "Artists: Elsa y Elmar (2224244)\n",
            "Release year: 2022\n",
            "Codec: FLAC, bitrate: 2304kbps, bit depth: 24bit, sample rate: 48kHz\n",
            "\n",
            "Downloading track file\n",
            "100% 43.8M/43.8M [00:01<00:00, 27.8MB/s]\n",
            "Downloading artwork\n",
            "Retrieving credits\n",
            "Tagging file\n",
            "=== Track 152216937 downloaded ===\n",
            "=== Album ya no somos los mismos downloaded ===\n"
          ]
        }
      ],
      "source": [
        "!python orpheus.py https://play.qobuz.com/album/az66a0ndl1adb"
      ]
    }
  ],
  "metadata": {
    "colab": {
      "provenance": [],
      "mount_file_id": "1so39iigH6__PxsAbBKsiOT1Ff4rxTFiG",
      "authorship_tag": "ABX9TyOEd0oP7fkEVmaD1GbtjQBZ",
      "include_colab_link": true
    },
    "kernelspec": {
      "display_name": "Python 3",
      "name": "python3"
    },
    "language_info": {
      "name": "python"
    }
  },
  "nbformat": 4,
  "nbformat_minor": 0
}